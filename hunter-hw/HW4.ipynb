{
  "cells": [
    {
      "cell_type": "code",
      "source": [
        "#\n",
        "# Machine Learning Fundamentals\n",
        "# Hunter Merrill\n",
        "# Spring 2025\n",
        "# Mar 19, 2025\n",
        "#\n",
        "\n",
        "# -----------------------------------------------------------\n",
        "\n",
        "import pandas as pd\n",
        "import numpy as np\n",
        "import math\n",
        "\n",
        "# Training examples (x, f(x)) where x is a 2D vector\n",
        "examples_list = [\n",
        "    [1, 1], 1,\n",
        "    [2, 4], 1,\n",
        "    [3, 3], 1,\n",
        "    [2, 3], 0,\n",
        "    [2.5, 1], 0,\n",
        "    [4, 2], 0,\n",
        "    [5, 2], 0\n",
        "]\n",
        "# Convert examples to tuples & add to dictionary\n",
        "training_examples = {}\n",
        "for e in range(0, len(examples_list), 2):\n",
        "  training_examples[tuple(examples_list[e])] = examples_list[e+1]\n",
        "\n",
        "\n",
        "\n",
        "# Query instances\n",
        "queries_list = [\n",
        "    [1.5, 3],\n",
        "    [3, 4],\n",
        "    [4, 1]\n",
        "]\n",
        "queries = [tuple(q) for q in queries_list]\n",
        "\n",
        "# Convert from 0/1 to -/+\n",
        "def classify(query):\n",
        "  classification = '?'\n",
        "\n",
        "  match query:\n",
        "    case 0:\n",
        "      classification = '-'\n",
        "    case 1:\n",
        "      classification = '+'\n",
        "\n",
        "  return classification"
      ],
      "metadata": {
        "id": "LERnz4NsLTQ4"
      },
      "execution_count": 2,
      "outputs": []
    },
    {
      "cell_type": "markdown",
      "source": [
        "k Nearest Neighbors"
      ],
      "metadata": {
        "id": "Y9SLp3zSJaO8"
      }
    },
    {
      "cell_type": "markdown",
      "metadata": {
        "id": "HBE9mw5b-xtY"
      },
      "source": [
        "```\n",
        "Training:\n",
        "  For each example (x, f(x)), add the example to the list training_examples\n",
        "\n",
        "Classification:\n",
        "  Given a query instance x_q to be classified,\n",
        "    Let x_1 ... x_k denote the k instances from training_examples that are nearest to x_q\n",
        "    Return f(x_q) <- argmax_(v in V) [sum^k_(i=1) [delta (v, f (x_i))]] where delta (a, b) is 1 if a=b and 0 otherwise.\n",
        "```"
      ]
    },
    {
      "cell_type": "code",
      "source": [
        "closest = {} # Closest k points to each query\n",
        "predictions = {} # Classification of each query\n",
        "arg_weights = {} # Classification weights for each query\n",
        "\n",
        "\n",
        "\n",
        "def knn(k, weighted = False):\n",
        "  global training_examples, queries, closest, predictions, arg_weights\n",
        "\n",
        "  # Print results\n",
        "  def results():\n",
        "    print('Classifications of query instances:')\n",
        "\n",
        "    for xq in queries:\n",
        "      closest_examples = [[x, classify(training_examples[x])] for x in closest[xq]] # List of k closest examples (x, f(x))\n",
        "      print(f' {xq} -> {predictions[xq]}   Closest to {closest_examples}')\n",
        "      if weighted:\n",
        "        print(f'   Weights: -{arg_weights[xq][0]} +{arg_weights[xq][1]}')\n",
        "\n",
        "  # Iterate through query instances\n",
        "  for xq in queries:\n",
        "\n",
        "      # Calculate Euclidian distances\n",
        "      distances = {}\n",
        "      for x in training_examples:\n",
        "          distance = ((xq[0] - x[0]) ** 2 + (xq[1] - x[1]) ** 2) ** 0.5\n",
        "          distances[x] = distance\n",
        "\n",
        "      # Sort greatest to least, retain k closest\n",
        "      dists = sorted(distances.items(), key=lambda item: item[1])[:k] # List of k (x, distance) tuples\n",
        "\n",
        "      # Extract points from tuples\n",
        "      closest[xq] = [t[0] for t in dists]\n",
        "\n",
        "      # Weighted\n",
        "      if weighted:\n",
        "        arg_weights[xq] = {}\n",
        "\n",
        "        for i in [0, 1]:\n",
        "          # List of examples with classification=i\n",
        "          match_i = []\n",
        "          for t in dists:\n",
        "            if training_examples[t[0]] == i:\n",
        "              match_i.append(t)\n",
        "\n",
        "          # Sum inverse squares\n",
        "          arg_weights[xq][i] = sum([t[1] ** (-2) for t in match_i])\n",
        "\n",
        "        # Determine classification\n",
        "        max_arg = max(arg_weights[xq], key=arg_weights[xq].get)\n",
        "        predictions[xq] = classify(max_arg)\n",
        "\n",
        "      # Unweighted\n",
        "      else:\n",
        "        # Find average f(x) of closest points\n",
        "        avg = sum([training_examples[x] for x in closest[xq]]) / k\n",
        "\n",
        "        # Determine classification\n",
        "        #   - if avg < 0.5 (more 0s)\n",
        "        #   + if avg > 0.5 (more 1s)\n",
        "        predictions[xq] = classify(int(avg + 0.5))\n",
        "\n",
        "  results()\n",
        "\n",
        "knn(1)\n",
        "knn(5)\n",
        "knn(5, weighted=True)"
      ],
      "metadata": {
        "id": "Qdgb1ydaC3oa",
        "colab": {
          "base_uri": "https://localhost:8080/"
        },
        "outputId": "2cde2fd9-b5ee-4ff9-d91d-8c5789a4be5a"
      },
      "execution_count": 3,
      "outputs": [
        {
          "output_type": "stream",
          "name": "stdout",
          "text": [
            "Classifications of query instances:\n",
            " (1.5, 3) -> -   Closest to [[(2, 3), '-']]\n",
            " (3, 4) -> +   Closest to [[(2, 4), '+']]\n",
            " (4, 1) -> -   Closest to [[(4, 2), '-']]\n",
            "Classifications of query instances:\n",
            " (1.5, 3) -> +   Closest to [[(2, 3), '-'], [(2, 4), '+'], [(3, 3), '+'], [(1, 1), '+'], [(2.5, 1), '-']]\n",
            " (3, 4) -> -   Closest to [[(2, 4), '+'], [(3, 3), '+'], [(2, 3), '-'], [(4, 2), '-'], [(5, 2), '-']]\n",
            " (4, 1) -> -   Closest to [[(4, 2), '-'], [(5, 2), '-'], [(2.5, 1), '-'], [(3, 3), '+'], [(2, 3), '-']]\n",
            "Classifications of query instances:\n",
            " (1.5, 3) -> -   Closest to [[(2, 3), '-'], [(2, 4), '+'], [(3, 3), '+'], [(1, 1), '+'], [(2.5, 1), '-']]\n",
            "   Weights: -4.2 +1.4797385620915033\n",
            " (3, 4) -> +   Closest to [[(2, 4), '+'], [(3, 3), '+'], [(2, 3), '-'], [(4, 2), '-'], [(5, 2), '-']]\n",
            "   Weights: -0.825 +2.0\n",
            " (4, 1) -> -   Closest to [[(4, 2), '-'], [(5, 2), '-'], [(2.5, 1), '-'], [(3, 3), '+'], [(2, 3), '-']]\n",
            "   Weights: -2.069444444444444 +0.19999999999999998\n"
          ]
        }
      ]
    },
    {
      "cell_type": "markdown",
      "source": [
        "Naive Bayes classifier"
      ],
      "metadata": {
        "id": "StiE8ZoHJekt"
      }
    },
    {
      "cell_type": "markdown",
      "metadata": {
        "id": "4SKOHPBPPuPk"
      },
      "source": [
        "```\n",
        "Training:\n",
        "  Estimate P(v_j) and P(a_i | v_j)\n",
        "\n",
        "Classification:\n",
        "  Return v_NB = argmax_[v_j in V](P(v_j) * product_[i](P(a_i | v_j))\n",
        "```"
      ]
    },
    {
      "cell_type": "code",
      "source": [
        "predictions = {} # Classification of each query\n",
        "statistics = {} # Mean and variance for each (l, a) pair\n",
        "V, A = [0, 1], [0, 1] # Classification values; Zero-indexed attribute indeces\n",
        "\n",
        "\n",
        "\n",
        "def gnb():\n",
        "  global training_examples, queries, predictions, V, A\n",
        "  v_nb = {}\n",
        "\n",
        "  # Print results\n",
        "  def results():\n",
        "    print('Classifications of query instances:')\n",
        "    for xq in queries:\n",
        "      print(xq, classify(v_nb[xq]))\n",
        "\n",
        "  # Slide 6.43\n",
        "  def Pr(a, i, j):\n",
        "     mu = statistics[(j, i)][0] # mean\n",
        "     s_sq = statistics[(j, i)][1] # sample var\n",
        "\n",
        "     coeff = 1 / math.sqrt(2 * math.pi * s_sq)\n",
        "     param = -1 * ((a - mu) ** 2 / (2 * s_sq))\n",
        "\n",
        "     return coeff * math.exp(param)\n",
        "\n",
        "  # Calculate P(y) & mean/variance for each (y, a) pair\n",
        "  P_y = [None] * len(V)\n",
        "  for y in V:\n",
        "    # Subset examples where classification = l\n",
        "    y_j = [x for x in training_examples.keys() if training_examples[x] == y]\n",
        "    P_y[y] = len(y_j) / len(training_examples) # P(y)\n",
        "\n",
        "    for i in A:\n",
        "      # Get a_i for each example\n",
        "      a_i = [x[i] for x in y_j]\n",
        "\n",
        "      # print(f'{y}, {i}, {y_j}, {a_i}')\n",
        "\n",
        "      mu = np.mean(a_i)\n",
        "      s_sq = np.var(a_i, ddof=1) # Bessel's correction (sample variance)\n",
        "      statistics[(y, i)] = (mu, s_sq)\n",
        "\n",
        "  # Classifier (textbook equation 6.20)\n",
        "  for xq in queries:\n",
        "    v_nb[xq] = np.argmax([P_y[y] * math.prod([Pr(xq[i], i, y) for i in A]) for y in V])\n",
        "\n",
        "  results()\n",
        "\n",
        "gnb()"
      ],
      "metadata": {
        "id": "-82bXq4A-FtM",
        "outputId": "24b24952-6449-468a-eb40-fbfc6f4d74dc",
        "colab": {
          "base_uri": "https://localhost:8080/"
        }
      },
      "execution_count": 46,
      "outputs": [
        {
          "output_type": "stream",
          "name": "stdout",
          "text": [
            "Classifications of query instances:\n",
            "(1.5, 3) +\n",
            "(3, 4) +\n",
            "(4, 1) -\n"
          ]
        }
      ]
    },
    {
      "cell_type": "markdown",
      "source": [
        "KNN Regression"
      ],
      "metadata": {
        "id": "mIJv6nanL__o"
      }
    },
    {
      "cell_type": "markdown",
      "source": [
        "```\n",
        "Regression using the k-NN Rule.\n",
        "  Return the value\n",
        "    h(x_q) = sum_{i=1}^k (c(x_i)) / k\n",
        "```"
      ],
      "metadata": {
        "id": "WJe_hXtPMIIo"
      }
    },
    {
      "cell_type": "code",
      "source": [
        "#\n",
        "# Machine Learning Fundamentals\n",
        "# Hunter Merrill\n",
        "# Spring 2025\n",
        "# Mar 19, 2025\n",
        "#\n",
        "\n",
        "# -----------------------------------------------------------\n",
        "\n",
        "import pandas as pd\n",
        "import numpy as np\n",
        "import matplotlib.pyplot as plt\n",
        "import math\n",
        "\n",
        "# Training examples (x, f(x)) where x is a 2D vector\n",
        "training_examples = {\n",
        "    0.7: 2.4,\n",
        "    0.9: 2.9,\n",
        "    1.2: 3.2,\n",
        "    2: 4.7,\n",
        "    2.8: 7.7,\n",
        "    3.4: 6.5,\n",
        "    4.2: 3.7,\n",
        "    5.1: 9.0\n",
        "}\n",
        "\n",
        "# Query instances\n",
        "queries = [1.5, 4.5]"
      ],
      "metadata": {
        "id": "KA0ylB3PL_uY"
      },
      "execution_count": 75,
      "outputs": []
    },
    {
      "cell_type": "code",
      "source": [
        "closest = {} # Closest k points to each query\n",
        "predictions = {} # Classification of each query\n",
        "arg_weights = {} # Classification weights for each query\n",
        "queries = [1.5, 4.5]\n",
        "\n",
        "\n",
        "def knn(k, weighted=False, show=True):\n",
        "  global training_examples, queries, closest, predictions, arg_weights\n",
        "\n",
        "  # Print results\n",
        "  def results():\n",
        "    print('Classifications of query instances:')\n",
        "\n",
        "    for xq in queries:\n",
        "      closest_examples = [[x, training_examples[x]] for x in closest[xq]] # List of k closest examples (x, f(x))\n",
        "      print(f' {xq} -> {predictions[xq]}   Closest to {closest_examples}')\n",
        "\n",
        "  # Iterate through query instances\n",
        "  for xq in queries:\n",
        "\n",
        "      # Calculate Euclidian distances\n",
        "      distances = {}\n",
        "      for x in training_examples:\n",
        "        distance = np.abs(xq - x)\n",
        "        distances[x] = distance\n",
        "\n",
        "      # Sort greatest to least, retain k closest\n",
        "      dists = sorted(distances.items(), key=lambda item: item[1])[:k] # List of k (instance, distance) tuples\n",
        "\n",
        "      # Extract points from tuples\n",
        "      closest[xq] = [t[0] for t in dists]\n",
        "\n",
        "      # Weighted (Slide 6.30.2)\n",
        "      if weighted:\n",
        "        arg_weights = {}\n",
        "        sum_weights = 0\n",
        "        for t in dists:\n",
        "          arg_weights[t[0]] = 1/(t[1] ** 2)\n",
        "          sum_weights += arg_weights[t[0]]\n",
        "\n",
        "        # Find average f(x) of closest points\n",
        "        avg = sum([arg_weights[x] * training_examples[x] for x in closest[xq]]) / sum_weights\n",
        "        predictions[xq] = avg\n",
        "\n",
        "      # Unweighted\n",
        "      else:\n",
        "        # Find average f(x) of closest points (Slide 6.29)\n",
        "        avg = sum([training_examples[x] for x in closest[xq]]) / k\n",
        "        predictions[xq] = avg\n",
        "  if show: results()\n",
        "\n",
        "knn(3)\n",
        "knn(3, weighted=True)\n",
        "\n",
        "\n",
        "# Plot setup\n",
        "fig, ax = plt.subplots(1)\n",
        "fig.set_figwidth(10)\n",
        "plt.xlabel('Query'); plt.ylabel('Prediction')\n",
        "\n",
        "queries = np.arange(0.0, 6.1, 0.1)\n",
        "predictions = {}\n",
        "\n",
        "# Plot tics unweighted\n",
        "knn(3, show=False)\n",
        "ax.scatter(queries, predictions.values(), label=\"Unweighted Predictions\")\n",
        "\n",
        "# Plot tics weighted\n",
        "knn(3, show=False, weighted=True)\n",
        "ax.scatter(queries, predictions.values(), label=\"Weighted Predictions\")\n",
        "\n",
        "# Plot training examples\n",
        "ax.scatter(training_examples.keys(), training_examples.values(), label=\"Training Examples\")\n",
        "\n",
        "ax.legend()\n",
        "plt.show(); plt.close()"
      ],
      "metadata": {
        "id": "yHt7TEu8NT3w",
        "outputId": "5e043a05-9f21-4be9-90af-8785e008304b",
        "colab": {
          "base_uri": "https://localhost:8080/",
          "height": 623
        }
      },
      "execution_count": 113,
      "outputs": [
        {
          "output_type": "stream",
          "name": "stdout",
          "text": [
            "Classifications of query instances:\n",
            " 1.5 -> 3.6   Closest to [[1.2, 3.2], [2, 4.7], [0.9, 2.9]]\n",
            " 4.5 -> 6.3999999999999995   Closest to [[4.2, 3.7], [5.1, 9.0], [3.4, 6.5]]\n",
            "Classifications of query instances:\n",
            " 1.5 -> 3.488819875776398   Closest to [[1.2, 3.2], [2, 4.7], [0.9, 2.9]]\n",
            " 4.5 -> 4.857722308892356   Closest to [[4.2, 3.7], [5.1, 9.0], [3.4, 6.5]]\n"
          ]
        },
        {
          "output_type": "stream",
          "name": "stderr",
          "text": [
            "<ipython-input-113-be22a981a6d6>:38: RuntimeWarning: divide by zero encountered in scalar divide\n",
            "  arg_weights[t[0]] = 1/(t[1] ** 2)\n",
            "<ipython-input-113-be22a981a6d6>:42: RuntimeWarning: invalid value encountered in scalar divide\n",
            "  avg = sum([arg_weights[x] * training_examples[x] for x in closest[xq]]) / sum_weights\n"
          ]
        },
        {
          "output_type": "display_data",
          "data": {
            "text/plain": [
              "<Figure size 1000x480 with 1 Axes>"
            ],
            "image/png": "[encoded data removed]"
          },
          "metadata": {}
        }
      ]
    }
  ],
  "metadata": {
    "language_info": {
      "name": "python"
    },
    "colab": {
      "provenance": []
    },
    "kernelspec": {
      "name": "python3",
      "display_name": "Python 3"
    }
  },
  "nbformat": 4,
  "nbformat_minor": 0
}